{
 "cells": [
  {
   "cell_type": "code",
   "execution_count": 17,
   "metadata": {},
   "outputs": [],
   "source": [
    "from PIL import Image \n",
    "import pytesseract \n",
    "import sys \n",
    "from pdf2image import convert_from_path \n",
    "import os \n",
    "import cv2 \n",
    "import numpy as np\n",
    "import re"
   ]
  },
  {
   "cell_type": "code",
   "execution_count": 18,
   "metadata": {},
   "outputs": [],
   "source": [
    "def text_recognise_from_image(img):\n",
    "    print(\"called\")\n",
    "    gray = cv2.cvtColor(img, cv2.COLOR_BGR2GRAY) \n",
    "    ret, thresh1 = cv2.threshold(gray, 0, 255, cv2.THRESH_OTSU | cv2.THRESH_BINARY_INV)\n",
    "    rect_kernel = cv2.getStructuringElement(cv2.MORPH_RECT, (18, 18)) \n",
    "    dilation = cv2.dilate(thresh1, rect_kernel, iterations = 1) \n",
    "    contours, hierarchy = cv2.findContours(dilation, cv2.RETR_EXTERNAL,  \n",
    "                                                 cv2.CHAIN_APPROX_NONE)\n",
    "    \n",
    "    im2 = img.copy() \n",
    "    \n",
    "    for cnt in contours: \n",
    "        x, y, w, h = cv2.boundingRect(cnt) \n",
    "        \n",
    "        # Drawing a rectangle on copied image \n",
    "        rect = cv2.rectangle(im2, (x, y), (x + w, y + h), (0, 255, 0), 2) \n",
    "        \n",
    "        # Cropping the text block for giving input to OCR \n",
    "        cropped = im2[y:y + h, x:x + w] \n",
    "        \n",
    "        # Open the file in append mode \n",
    "        file = open(\"recog.txt\", \"a\") \n",
    "        \n",
    "        # Apply OCR on the cropped image \n",
    "        text = pytesseract.image_to_string(cropped) \n",
    "        \n",
    "        # Appending the text into file \n",
    "        file.write(text) \n",
    "        file.write(\"\\n\") \n",
    "        \n",
    "        # Close the file\n",
    "        file.close \n",
    "        with open('recog.txt') as f:\n",
    "            recog_list=[word for line in f for word in line.split()]\n",
    "            \n",
    "        return recog_list\n"
   ]
  },
  {
   "cell_type": "code",
   "execution_count": 19,
   "metadata": {},
   "outputs": [],
   "source": [
    "img1 = cv2.imread(\"img.jpeg\")\n",
    "img2 = cv2.imread(\"img2.jpeg\")\n",
    "recog_list1 = text_recognise_from_image(img1)\n",
    "recog_list2 = text_recognise_from_image(img2)\n",
    "\n",
    "final_list = []\n",
    "for i in recog_list1:\n",
    "    final_list.append(i)\n",
    "for i in recog_list2:\n",
    "    final_list.append(i)"
   ]
  },
  {
   "cell_type": "code",
   "execution_count": 20,
   "metadata": {},
   "outputs": [
    {
     "name": "stdout",
     "output_type": "stream",
     "text": [
      "['oe', 'tite', '€-A3e-03]', '“bel', 'HE,', '308', 'Ta', 'E', '|', 'ii', '=', '——-', '|', 'me', 'a)', '©', 'winy', '2', 'way', '=', '—', '=', '—', '=', '—', '!', '=', '—', 'Wise', '[=a', 'oO', 'QO', 'oO', 'g', 'ee', 'BE', 'i', '=', 'SE', 'BAH', 'aE', '28', '|.', 'ee', 'Be', '|', '.', '\\\\', '|g', '--', 'saa', '8', 'AF', '=', 'i', 'Te', 'rT', 'lois', '3', 'BIC', 'EC', 'z', 'a', '3', 'zs', '3', 'gif', '=', '=', 'Pe', 'SO', 'a', 'fiat', 'cro', 'ai', 'eB', 'ae', '®', 'fi', 'gL', '|', 'os', 'oF', '<8', 'ee', 'ed', 'aie', '&', 'Be', 'i', 'scree', '|e', 'ik', '8', '2', '3', 'g', 'a', 'Ze', 'Zig', 'fl', 'g', 'o', '3S', 'Se', 'eg', '+', '§3', 'ei', '3', 'S', '3', 'S', '4', 's', '9', 'biz,', '$3', '|', 'Js', 'i', '2', 'z/', '\\\\', '©', 'se', '3', '“ES', '7', 'i', '“s', '3', '|', '>', 'ER', 'Es', 'i', 'Ss', '_', 'a', 'les', 'i', '|osl', 'lo', 'x]', 'eal}.', '|', '-es', 'eal', 'e', 'aalt', 'jgb', 'es', 'sls', 'peri', 'ev', 'ee', '=', 'Bebonr', 'Get', 'cor', '2)', 'WB', 'tl', 'DAT', 'v8', 'EA', 'eu', 'OS', 'Fi', 'yest', '1', 'cx', 'cneG_', 'obey)', 'Grube', 'lider', 're', 'Intel,', 'Ze', 'aos', '£2', 'cent', 'xa', '°', 'fe', 'z', 'A,', 'sf', 'FA', 'Bo\\\\', 'Fae', 'auesgu', 'bail', 'eee', 'fieees8', 'SANtesss|ttesssle', '|', '=', 'at', '+', '7', '=', 'TE', 'Pon:', 'eae', 'er', '3', '=', 'es', 'é', '(rt', 'crs', 'Chéxne', 'Bs)', 'Fr', 'Fe', '&', 'cHocorwie_|', '.', 'OBDEB', 'os', 'gi', '2', '‘', '|', 'f', 'vlW', 'as]', '22', 'ty', 'SR', 'ay', '>', 'Bs)', '364]', 'Bee', 'ere]', 'oi', '_', 'WEL', 'aD', 'ose!', '=', '|', '22!', '<', 'bEODNC', 'Sa', '=', '2g', 'Sa)', 'io', '‘s', 'FS', 'e', 'a', '»', 'eo', '8', '=', 'is', '5', 'a', '-', 'ie', '5', '©', 'Z|', 'Sz', '3', '3', 'é', 'aog', '3', '8', '4', '5', '-', '528', 'al', 'we', '3', '-', 'tp', 'Bee', 'Cube', 'OS', '=>', 'pm', 'raraoe', 'Cae', 'os', '|', 'B35', '=', 'fj', 'ee', 'eK', 'S|', 'al', 'Icor', '¢', '|', 'a', 'go', 'HOL', 'En', '=', '/M\\\\BOM', 'Za', '(48333)', '|', '|', 'BEA', '3)', 'BeKINCUS!3!3)', 'EWM', 'MULE', 'M\\\\2puuK', '|', 'MOLEY', 'MNO', '2bUuK', '1', '_wio_|', 'Kiba', 'ci', '|', 'S', '3', '‘|', '|', 'SS', 'Es', '7', 'I>', '=', '—', '————_e', '=', 'o', 'Qa']\n"
     ]
    }
   ],
   "source": [
    "r = re.compile(\".*[abcABC]\")\n",
    "print(recog_list1)\n",
    "\n"
   ]
  },
  {
   "cell_type": "code",
   "execution_count": 21,
   "metadata": {},
   "outputs": [
    {
     "name": "stdout",
     "output_type": "stream",
     "text": [
      "['oe', 'tite', '€-A3e-03]', '“bel', 'HE,', '308', 'Ta', 'E', '|', 'ii', '=', '——-', '|', 'me', 'a)', '©', 'winy', '2', 'way', '=', '—', '=', '—', '=', '—', '!', '=', '—', 'Wise', '[=a', 'oO', 'QO', 'oO', 'g', 'ee', 'BE', 'i', '=', 'SE', 'BAH', 'aE', '28', '|.', 'ee', 'Be', '|', '.', '\\\\', '|g', '--', 'saa', '8', 'AF', '=', 'i', 'Te', 'rT', 'lois', '3', 'BIC', 'EC', 'z', 'a', '3', 'zs', '3', 'gif', '=', '=', 'Pe', 'SO', 'a', 'fiat', 'cro', 'ai', 'eB', 'ae', '®', 'fi', 'gL', '|', 'os', 'oF', '<8', 'ee', 'ed', 'aie', '&', 'Be', 'i', 'scree', '|e', 'ik', '8', '2', '3', 'g', 'a', 'Ze', 'Zig', 'fl', 'g', 'o', '3S', 'Se', 'eg', '+', '§3', 'ei', '3', 'S', '3', 'S', '4', 's', '9', 'biz,', '$3', '|', 'Js', 'i', '2', 'z/', '\\\\', '©', 'se', '3', '“ES', '7', 'i', '“s', '3', '|', '>', 'ER', 'Es', 'i', 'Ss', '_', 'a', 'les', 'i', '|osl', 'lo', 'x]', 'eal}.', '|', '-es', 'eal', 'e', 'aalt', 'jgb', 'es', 'sls', 'peri', 'ev', 'ee', '=', 'Bebonr', 'Get', 'cor', '2)', 'WB', 'tl', 'DAT', 'v8', 'EA', 'eu', 'OS', 'Fi', 'yest', '1', 'cx', 'cneG_', 'obey)', 'Grube', 'lider', 're', 'Intel,', 'Ze', 'aos', '£2', 'cent', 'xa', '°', 'fe', 'z', 'A,', 'sf', 'FA', 'Bo\\\\', 'Fae', 'auesgu', 'bail', 'eee', 'fieees8', 'SANtesss|ttesssle', '|', '=', 'at', '+', '7', '=', 'TE', 'Pon:', 'eae', 'er', '3', '=', 'es', 'é', '(rt', 'crs', 'Chéxne', 'Bs)', 'Fr', 'Fe', '&', 'cHocorwie_|', '.', 'OBDEB', 'os', 'gi', '2', '‘', '|', 'f', 'vlW', 'as]', '22', 'ty', 'SR', 'ay', '>', 'Bs)', '364]', 'Bee', 'ere]', 'oi', '_', 'WEL', 'aD', 'ose!', '=', '|', '22!', '<', 'bEODNC', 'Sa', '=', '2g', 'Sa)', 'io', '‘s', 'FS', 'e', 'a', '»', 'eo', '8', '=', 'is', '5', 'a', '-', 'ie', '5', '©', 'Z|', 'Sz', '3', '3', 'é', 'aog', '3', '8', '4', '5', '-', '528', 'al', 'we', '3', '-', 'tp', 'Bee', 'Cube', 'OS', '=>', 'pm', 'raraoe', 'Cae', 'os', '|', 'B35', '=', 'fj', 'ee', 'eK', 'S|', 'al', 'Icor', '¢', '|', 'a', 'go', 'HOL', 'En', '=', '/M\\\\BOM', 'Za', '(48333)', '|', '|', 'BEA', '3)', 'BeKINCUS!3!3)', 'EWM', 'MULE', 'M\\\\2puuK', '|', 'MOLEY', 'MNO', '2bUuK', '1', '_wio_|', 'Kiba', 'ci', '|', 'S', '3', '‘|', '|', 'SS', 'Es', '7', 'I>', '=', '—', '————_e', '=', 'o', 'Qa']\n",
      "['€-A3e-03]', '“bel', 'Ta', 'a)', 'way', '[=a', 'BE', 'BAH', 'aE', 'Be', 'saa', 'AF', 'BIC', 'EC', 'a', 'a', 'fiat', 'cro', 'ai', 'eB', 'ae', 'aie', 'Be', 'scree', 'a', 'biz,', 'a', 'eal}.', 'eal', 'aalt', 'jgb', 'Bebonr', 'cor', 'WB', 'DAT', 'EA', 'cx', 'cneG_', 'obey)', 'Grube', 'aos', 'cent', 'xa', 'A,', 'FA', 'Bo\\\\', 'Fae', 'auesgu', 'bail', 'SANtesss|ttesssle', 'at', 'eae', 'crs', 'Chéxne', 'Bs)', 'cHocorwie_|', 'OBDEB', 'as]', 'ay', 'Bs)', 'Bee', 'aD', 'bEODNC', 'Sa', 'Sa)', 'a', 'a', 'aog', 'al', 'Bee', 'Cube', 'raraoe', 'Cae', 'B35', 'al', 'Icor', 'a', '/M\\\\BOM', 'Za', 'BEA', 'BeKINCUS!3!3)', '2bUuK', 'Kiba', 'ci', 'Qa', '€-A3e-03]', '“bel', 'Ta', 'a)', 'way', '[=a', 'BE', 'BAH', 'aE', 'Be', 'saa', 'AF', 'BIC', 'EC', 'a', 'a', 'fiat', 'cro', 'ai', 'eB', 'ae', 'aie', 'Be', 'scree', 'a', 'biz,', 'a', 'eal}.', 'eal', 'aalt', 'jgb', 'Bebonr', 'cor', 'WB', 'DAT', 'EA', 'cx', 'cneG_', 'obey)', 'Grube', 'aos', 'cent', 'xa', 'A,', 'FA', 'Bo\\\\', 'Fae', 'auesgu', 'bail', 'SANtesss|ttesssle', 'at', 'eae', 'crs', 'Chéxne', 'Bs)', 'cHocorwie_|', 'OBDEB', 'as]', 'ay', 'Bs)', 'Bee', 'aD', 'bEODNC', 'Sa', 'Sa)', 'a', 'a', 'aog', 'al', 'Bee', 'Cube', 'raraoe', 'Cae', 'B35', 'al', 'Icor', 'a', '/M\\\\BOM', 'Za', 'BEA', 'BeKINCUS!3!3)', '2bUuK', 'Kiba', 'ci', 'Qa']\n"
     ]
    }
   ],
   "source": [
    "print(recog_list2)\n",
    "newlist = list(filter(r.match, final_list))\n",
    "print(newlist)"
   ]
  },
  {
   "cell_type": "code",
   "execution_count": null,
   "metadata": {},
   "outputs": [],
   "source": []
  },
  {
   "cell_type": "code",
   "execution_count": null,
   "metadata": {},
   "outputs": [],
   "source": []
  }
 ],
 "metadata": {
  "kernelspec": {
   "display_name": "Python 3",
   "language": "python",
   "name": "python3"
  },
  "language_info": {
   "codemirror_mode": {
    "name": "ipython",
    "version": 3
   },
   "file_extension": ".py",
   "mimetype": "text/x-python",
   "name": "python",
   "nbconvert_exporter": "python",
   "pygments_lexer": "ipython3",
   "version": "3.7.7"
  }
 },
 "nbformat": 4,
 "nbformat_minor": 4
}
