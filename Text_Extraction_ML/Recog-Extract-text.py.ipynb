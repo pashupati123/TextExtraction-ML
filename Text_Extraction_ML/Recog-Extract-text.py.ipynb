{
 "cells": [
  {
   "cell_type": "code",
   "execution_count": 1,
   "metadata": {},
   "outputs": [],
   "source": [
    "import cv2 \n",
    "import pytesseract\n",
    "from pytesseract import Output\n",
    "import numpy as np\n",
    "import re"
   ]
  },
  {
   "cell_type": "code",
   "execution_count": 2,
   "metadata": {},
   "outputs": [],
   "source": [
    "image = cv2.imread('b19.png')"
   ]
  },
  {
   "cell_type": "code",
   "execution_count": 3,
   "metadata": {},
   "outputs": [
    {
     "name": "stdout",
     "output_type": "stream",
     "text": [
      "dict_keys(['level', 'page_num', 'block_num', 'par_num', 'line_num', 'word_num', 'left', 'top', 'width', 'height', 'conf', 'text'])\n"
     ]
    }
   ],
   "source": [
    "d = pytesseract.image_to_data(image, output_type=Output.DICT)\n",
    "print(d.keys())"
   ]
  },
  {
   "cell_type": "code",
   "execution_count": 4,
   "metadata": {},
   "outputs": [
    {
     "name": "stdout",
     "output_type": "stream",
     "text": [
      "['', '', '', '', 'i', 'Ua', '', '', '', '4acesi7', 'C2519', 'RSI', '«=SSCC', 'I', 'x', '', 'y', '', '18', '3', '', '', '', 'oy', 'SPORT', 'DRINKS', 'JUICE', 'MULT§SERV', '', '(4:3)', '3', '2.', '', '', '', '/', '', 'S/', '', '', '', 'Lyn', '', '', '', 'aT']\n"
     ]
    }
   ],
   "source": [
    "print(d['text'])"
   ]
  },
  {
   "cell_type": "code",
   "execution_count": 5,
   "metadata": {},
   "outputs": [
    {
     "name": "stdout",
     "output_type": "stream",
     "text": [
      "['Ua', '4acesi7', 'C2519', '«=SSCC', 'JUICE', 'aT']\n"
     ]
    }
   ],
   "source": [
    "r = re.compile(\".*[abcABC]\")\n",
    "newlist = list(filter(r.match, d['text']))\n",
    "print(newlist)"
   ]
  },
  {
   "cell_type": "code",
   "execution_count": null,
   "metadata": {},
   "outputs": [
    {
     "name": "stdout",
     "output_type": "stream",
     "text": [
      "i\n",
      "Ua\n",
      "x\n",
      "18\n",
      "3\n",
      "SPORT\n",
      "DRINKS\n",
      "JUICE\n",
      "MULT§SERV\n",
      "(4:3)\n"
     ]
    }
   ],
   "source": [
    "n_boxes = len(d['text'])\n",
    "for i in range(n_boxes):\n",
    "    if int(d['conf'][i]) > 50:\n",
    "        (x, y, w, h) = (d['left'][i], d['top'][i], d['width'][i], d['height'][i])\n",
    "        image = cv2.rectangle(image, (x, y), (x + w, y + h), (0, 255, 0), 2)\n",
    "        print(d['text'][i])\n",
    "\n",
    "cv2.imshow('img', image)\n",
    "cv2.waitKey(0)"
   ]
  },
  {
   "cell_type": "code",
   "execution_count": null,
   "metadata": {},
   "outputs": [],
   "source": []
  }
 ],
 "metadata": {
  "kernelspec": {
   "display_name": "Python 3",
   "language": "python",
   "name": "python3"
  },
  "language_info": {
   "codemirror_mode": {
    "name": "ipython",
    "version": 3
   },
   "file_extension": ".py",
   "mimetype": "text/x-python",
   "name": "python",
   "nbconvert_exporter": "python",
   "pygments_lexer": "ipython3",
   "version": "3.7.7"
  }
 },
 "nbformat": 4,
 "nbformat_minor": 4
}
